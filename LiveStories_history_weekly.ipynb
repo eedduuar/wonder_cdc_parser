{
 "worksheets": [
  {
   "cells": [
    {
     "cell_type": "code",
     "execution_count": null,
     "metadata": {},
     "outputs": [],
     "input": [
      "import pandas as pd\n",
      "import requests \n",
      "import sys\n",
      "import argparse\n",
      "reload(sys)\n",
      "sys.setdefaultencoding('UTF-8')\n",
      "import io\n",
      "from datetime import date"
     ],
     "language": "python",
     "prompt_number": 2
    },
    {
     "cell_type": "code",
     "execution_count": null,
     "metadata": {},
     "outputs": [],
     "input": [
      "def getWeeks(year):\n",
      "    weeks = []\n",
      "    \n",
      "    for i in range(1,54):\n",
      "        weeks.append(str(i).zfill(2))\n",
      "    \n",
      "    return weeks\n",
      "\n",
      "def getDataframe(base_url,year,week):\n",
      "     \n",
      "    url= base_url % (year,week)\n",
      "    print url\n",
      "    text = requests.get(url).text\n",
      "    text = text.replace('-','0')\n",
      "    return pd.read_csv(io.StringIO(text), sep='\\t', header=None,skiprows=17,skipfooter=21)\n",
      "\n",
      "\n",
      "\n",
      "def main(base_url, start_year,end_year,output_file):\n",
      "    \n",
      "    years = range(start_year,end_year)\n",
      "    dfs = []\n",
      "    for year in years:\n",
      "        weeks = getWeeks(year)\n",
      "        for week in weeks[0:2]:\n",
      "            df = getDataframe(base_url,year,week)\n",
      "            df['year']=year\n",
      "            df['week']=week\n",
      "            dfs.append(df)\n",
      "            \n",
      "            \n",
      "    full_df = pd.concat(dfs,axis=0, ignore_index=True)   \n",
      "\n",
      "    full_df.to_csv(output_file, index=False)\n",
      "    \n",
      "    \n",
      "base_url = 'https://wonder.cdc.gov/mmwr/mmwr_reps.asp?mmwr_year=%d&mmwr_week=%s&mmwr_table=2G&request=Export&mmwr_location='\n",
      "output_file = '/tmp/full.csv'\n",
      "main(base_url,2008,2009,output_file)"
     ],
     "language": "python",
     "prompt_number": 61
    },
    {
     "cell_type": "code",
     "execution_count": null,
     "metadata": {},
     "outputs": [
      {
       "prompt_number": 6,
       "metadata": {},
       "output_type": "pyout",
       "text": [
        "43"
       ]
      }
     ],
     "input": [
      "date.today().isocalendar()[1]"
     ],
     "language": "python",
     "prompt_number": 6
    },
    {
     "cell_type": "code",
     "execution_count": null,
     "metadata": {},
     "outputs": [],
     "input": [
      ""
     ],
     "language": "python"
    }
   ]
  }
 ],
 "cells": [],
 "metadata": {
  "name": "",
  "signature": "sha256:fb96405141fab5ef959c4ee04cbddc29fb6dec703177dff0b856a9551f531a8e"
 },
 "nbformat": 4,
 "nbformat_minor": 0
}